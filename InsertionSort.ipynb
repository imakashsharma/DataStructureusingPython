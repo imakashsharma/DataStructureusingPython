{
 "cells": [
  {
   "cell_type": "code",
   "execution_count": 1,
   "metadata": {},
   "outputs": [
    {
     "name": "stdout",
     "output_type": "stream",
     "text": [
      "Original Array: [3, 5, 8, 9, 6, 2]\n",
      "Sorted Array: [2, 3, 5, 6, 8, 9]\n"
     ]
    }
   ],
   "source": [
    "def insertionsort(A):\n",
    "    n = len(A)\n",
    "    for i in range(1,n):\n",
    "        cvalue = A[i]\n",
    "        position = i\n",
    "        while position > 0 and A[position-1] > cvalue:\n",
    "            A[position] = A[position-1]\n",
    "            position = position - 1\n",
    "        A[position] = cvalue\n",
    "\n",
    "\n",
    "A = [3,5,8,9,6,2]\n",
    "print('Original Array:',A)\n",
    "insertionsort(A)\n",
    "print('Sorted Array:',A)"
   ]
  },
  {
   "cell_type": "code",
   "execution_count": 2,
   "metadata": {},
   "outputs": [
    {
     "name": "stdout",
     "output_type": "stream",
     "text": [
      "Unsorted Array:  [3, 5, 8, 9, 5, 2]\n",
      "Sorted Array:  [2, 3, 5, 5, 8, 9]\n"
     ]
    }
   ],
   "source": [
    "def insertionsort(A):\n",
    "    length = len(A)\n",
    "    for i in range(1, length):\n",
    "        current_value = A[i]\n",
    "        position = i\n",
    "        while position > 0 and A[position-1] > current_value:\n",
    "            A[position] = A[position-1]\n",
    "            position -= 1\n",
    "        A[position] = current_value\n",
    "\n",
    "if __name__ == '__main__':\n",
    "    array = [3, 5, 8, 9, 5, 2]\n",
    "    print('Unsorted Array: ',array)\n",
    "    insertionsort(array)\n",
    "    print('Sorted Array: ', array)"
   ]
  },
  {
   "cell_type": "code",
   "execution_count": null,
   "metadata": {},
   "outputs": [],
   "source": []
  }
 ],
 "metadata": {
  "kernelspec": {
   "display_name": "Python 3",
   "language": "python",
   "name": "python3"
  },
  "language_info": {
   "codemirror_mode": {
    "name": "ipython",
    "version": 3
   },
   "file_extension": ".py",
   "mimetype": "text/x-python",
   "name": "python",
   "nbconvert_exporter": "python",
   "pygments_lexer": "ipython3",
   "version": "3.7.4"
  }
 },
 "nbformat": 4,
 "nbformat_minor": 2
}
