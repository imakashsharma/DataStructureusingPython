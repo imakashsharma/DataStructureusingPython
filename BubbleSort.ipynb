{
 "cells": [
  {
   "cell_type": "code",
   "execution_count": 1,
   "metadata": {},
   "outputs": [
    {
     "name": "stdout",
     "output_type": "stream",
     "text": [
      "Original Array: [3, 5, 8, 9, 6, 2]\n",
      "Sorted Array: [2, 3, 5, 6, 8, 9]\n"
     ]
    }
   ],
   "source": [
    "def bubblesort(A):\n",
    "    n = len(A)\n",
    "    for passes in range(n-1,0,-1):\n",
    "        for i in range(passes):\n",
    "            if A[i] > A[i+1]:\n",
    "                temp = A[i]\n",
    "                A[i] = A[i+1]\n",
    "                A[i+1] = temp\n",
    "\n",
    "# Main\n",
    "A = [3, 5, 8, 9, 6, 2]\n",
    "print('Original Array:',A)\n",
    "bubblesort(A)\n",
    "print('Sorted Array:',A)"
   ]
  },
  {
   "cell_type": "code",
   "execution_count": 2,
   "metadata": {},
   "outputs": [
    {
     "name": "stdout",
     "output_type": "stream",
     "text": [
      "[11, 12, 22, 25, 34, 64, 90]\n"
     ]
    }
   ],
   "source": [
    "def bubblesort(A):\n",
    "    length = len(A)\n",
    "\n",
    "    for i in range(0, length):\n",
    "        swap = False\n",
    "        for j in range(0, length-i-1):\n",
    "            if A[j] > A[j+1]:\n",
    "                A[j], A[j+1] = A[j+1], A[j]\n",
    "                swap = True\n",
    "        if swap == False:\n",
    "            break\n",
    "\n",
    "if __name__ == '__main__':\n",
    "    A = [64,34,25,12,22,11,90]\n",
    "    bubblesort(A)\n",
    "\n",
    "    print(A)"
   ]
  },
  {
   "cell_type": "code",
   "execution_count": null,
   "metadata": {},
   "outputs": [],
   "source": []
  }
 ],
 "metadata": {
  "kernelspec": {
   "display_name": "Python 3",
   "language": "python",
   "name": "python3"
  },
  "language_info": {
   "codemirror_mode": {
    "name": "ipython",
    "version": 3
   },
   "file_extension": ".py",
   "mimetype": "text/x-python",
   "name": "python",
   "nbconvert_exporter": "python",
   "pygments_lexer": "ipython3",
   "version": "3.7.4"
  }
 },
 "nbformat": 4,
 "nbformat_minor": 2
}
