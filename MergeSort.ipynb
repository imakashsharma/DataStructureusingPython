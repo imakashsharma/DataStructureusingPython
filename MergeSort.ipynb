{
 "cells": [
  {
   "cell_type": "code",
   "execution_count": 1,
   "metadata": {},
   "outputs": [
    {
     "name": "stdout",
     "output_type": "stream",
     "text": [
      "Original Array: [3, 5, 8, 9, 6, 2]\n",
      "Sorted Array: [2, 3, 5, 6, 8, 9]\n"
     ]
    }
   ],
   "source": [
    "def mergesort(A, left, right):\n",
    "    if left < right:\n",
    "        mid = (left + right) // 2\n",
    "        mergesort(A, left, mid)\n",
    "        mergesort(A, mid+1, right)\n",
    "        merge(A, left, mid, right)\n",
    "\n",
    "def merge(A, left, mid, right):\n",
    "    i = left\n",
    "    j = mid+1\n",
    "    k = left\n",
    "    B = [0] * (right+1)\n",
    "    while i <= mid and j <= right:\n",
    "        if A[i] < A[j]:\n",
    "            B[k] = A[i]\n",
    "            i = i + 1\n",
    "        else:\n",
    "            B[k] = A[j]\n",
    "            j = j + 1\n",
    "        k = k + 1\n",
    "\n",
    "    while i <= mid:\n",
    "        B[k] = A[i]\n",
    "        i = i + 1\n",
    "        k = k + 1\n",
    "\n",
    "    while j <= right:\n",
    "        B[k] = A[j]\n",
    "        j = j + 1\n",
    "        k = k + 1\n",
    "    for x in range(left,right+1):\n",
    "        A[x] = B[x]\n",
    "\n",
    "\n",
    "A = [3, 5, 8, 9, 6, 2]\n",
    "print('Original Array:',A)\n",
    "mergesort(A,0,len(A)-1)\n",
    "print('Sorted Array:',A)"
   ]
  },
  {
   "cell_type": "code",
   "execution_count": 2,
   "metadata": {},
   "outputs": [
    {
     "name": "stdout",
     "output_type": "stream",
     "text": [
      "Original Array: [3, 5, 8, 9, 6, 2]\n",
      "Sorted Array: [2, 3, 5, 6, 8, 9]\n"
     ]
    }
   ],
   "source": [
    "def mergesort(arr, left, right):\n",
    "    if left < right:\n",
    "        mid = (left + right) // 2\n",
    "        mergesort(arr, left, mid)\n",
    "        mergesort(arr, mid+1, right)\n",
    "        merge(arr, left, mid, right)\n",
    "\n",
    "\n",
    "def merge(arr, left, mid, right):\n",
    "    i = left\n",
    "    j = mid+1\n",
    "    k = left\n",
    "    B = [0] * (right+1)\n",
    "\n",
    "    while i <= mid and j <= right:\n",
    "        if arr[i] < arr[j]:\n",
    "            B[k] = arr[i]\n",
    "            i += 1\n",
    "        else:\n",
    "            B[k] = arr[j]\n",
    "            j += 1\n",
    "        k += 1\n",
    "    \n",
    "    while i <= mid:\n",
    "        B[k] = arr[i]\n",
    "        i += 1\n",
    "        k += 1\n",
    "    \n",
    "    while j <= right:\n",
    "        B[k] = arr[j]\n",
    "        j += 1\n",
    "        k += 1\n",
    "        \n",
    "    for i in range(left, right+1):\n",
    "        arr[i] = B[i]\n",
    "\n",
    "\n",
    "A = [3, 5, 8, 9, 6, 2]\n",
    "print('Original Array:',A)\n",
    "mergesort(A,0,len(A)-1)\n",
    "print('Sorted Array:',A)"
   ]
  },
  {
   "cell_type": "code",
   "execution_count": null,
   "metadata": {},
   "outputs": [],
   "source": []
  }
 ],
 "metadata": {
  "kernelspec": {
   "display_name": "Python 3",
   "language": "python",
   "name": "python3"
  },
  "language_info": {
   "codemirror_mode": {
    "name": "ipython",
    "version": 3
   },
   "file_extension": ".py",
   "mimetype": "text/x-python",
   "name": "python",
   "nbconvert_exporter": "python",
   "pygments_lexer": "ipython3",
   "version": "3.7.4"
  }
 },
 "nbformat": 4,
 "nbformat_minor": 2
}
