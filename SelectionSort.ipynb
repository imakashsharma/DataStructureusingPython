{
 "cells": [
  {
   "cell_type": "code",
   "execution_count": 1,
   "metadata": {},
   "outputs": [
    {
     "name": "stdout",
     "output_type": "stream",
     "text": [
      "Original Array: [3, 5, 8, 9, 6, 2]\n",
      "Sorted Array: [2, 3, 5, 6, 8, 9]\n"
     ]
    }
   ],
   "source": [
    "def selectionsort(A):\n",
    "    n = len(A)\n",
    "    for i in range(n-1):\n",
    "        position = i\n",
    "        for j in range(i+1, n):\n",
    "            if A[j] < A[position]:\n",
    "                position = j\n",
    "        temp = A[i]\n",
    "        A[i] = A[position]\n",
    "        A[position] = temp\n",
    "\n",
    "\n",
    "A = [3, 5, 8, 9, 6, 2]\n",
    "print('Original Array:',A)\n",
    "selectionsort(A)\n",
    "print('Sorted Array:',A)"
   ]
  },
  {
   "cell_type": "code",
   "execution_count": 2,
   "metadata": {},
   "outputs": [
    {
     "name": "stdout",
     "output_type": "stream",
     "text": [
      "Unsorted Array:  [3, 5, 8, 9, 5, 2]\n",
      "Sorted Array:  [2, 3, 5, 5, 8, 9]\n"
     ]
    }
   ],
   "source": [
    "def selectionsort(A):\n",
    "    length = len(A)\n",
    "    for i in range(0, length-1):\n",
    "        position = i\n",
    "        for j in range(i+1, length):\n",
    "            if A[j] < A[position]:\n",
    "                position = j\n",
    "        temp = A[i]             # To SWAP one can also write \n",
    "        A[i] = A[position]      # A[i], A[position] = A[position], A[i]\n",
    "        A[position] = temp\n",
    "\n",
    "\n",
    "if __name__ == '__main__':\n",
    "    unsorted_array = [3, 5, 8, 9, 5, 2]\n",
    "    print('Unsorted Array: ', unsorted_array)\n",
    "    selectionsort(unsorted_array)\n",
    "    print('Sorted Array: ',unsorted_array)"
   ]
  },
  {
   "cell_type": "code",
   "execution_count": null,
   "metadata": {},
   "outputs": [],
   "source": []
  }
 ],
 "metadata": {
  "kernelspec": {
   "display_name": "Python 3",
   "language": "python",
   "name": "python3"
  },
  "language_info": {
   "codemirror_mode": {
    "name": "ipython",
    "version": 3
   },
   "file_extension": ".py",
   "mimetype": "text/x-python",
   "name": "python",
   "nbconvert_exporter": "python",
   "pygments_lexer": "ipython3",
   "version": "3.7.4"
  }
 },
 "nbformat": 4,
 "nbformat_minor": 2
}
