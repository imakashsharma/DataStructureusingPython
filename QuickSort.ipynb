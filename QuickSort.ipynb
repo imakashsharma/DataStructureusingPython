{
 "cells": [
  {
   "cell_type": "code",
   "execution_count": 1,
   "metadata": {},
   "outputs": [
    {
     "name": "stdout",
     "output_type": "stream",
     "text": [
      "Original Array: [3, 5, 8, 9, 6, 2]\n",
      "Sorted Array: [2, 3, 5, 6, 8, 9]\n"
     ]
    }
   ],
   "source": [
    "def partition(A, low, high):\n",
    "    pivot = A[low]\n",
    "    i = low + 1\n",
    "    j = high\n",
    "    while True:\n",
    "        while i <= j and A[i] <= pivot:\n",
    "            i = i + 1\n",
    "        while i <=j and A[j] > pivot:\n",
    "            j = j - 1\n",
    "        if i <= j:\n",
    "            A[i], A[j] = A[j], A[i]\n",
    "        else:\n",
    "            break\n",
    "    A[low], A[j] = A[j], A[low]\n",
    "    return j\n",
    "\n",
    "\n",
    "def quicksort(A, low, high):\n",
    "    if low < high:\n",
    "        pi = partition(A, low, high)\n",
    "        quicksort(A, low, pi - 1)\n",
    "        quicksort(A, pi + 1, high)\n",
    "\n",
    "\n",
    "\n",
    "A = [3, 5, 8, 9, 6, 2]\n",
    "print('Original Array:',A)\n",
    "quicksort(A, 0, len(A)-1)\n",
    "print('Sorted Array:',A)"
   ]
  },
  {
   "cell_type": "code",
   "execution_count": 2,
   "metadata": {},
   "outputs": [
    {
     "name": "stdout",
     "output_type": "stream",
     "text": [
      "[5, 2, 1, 6, 4, 8]\n",
      "[1, 2, 4, 5, 6, 8]\n"
     ]
    }
   ],
   "source": [
    "def partition(A, lb, ub):\n",
    "    pivot = A[lb]\n",
    "    start = lb\n",
    "    end = ub\n",
    "\n",
    "    while start < end:\n",
    "        while A[start]<=pivot:\n",
    "            start += 1\n",
    "        while A[end]>pivot:\n",
    "            end -= 1\n",
    "        if start < end:\n",
    "            A[start], A[end] = A[end], A[start]\n",
    "        else:\n",
    "            break\n",
    "    A[lb], A[end] = A[end], A[lb]\n",
    "    return end\n",
    "\n",
    "def quicksort(A, lb, ub):\n",
    "    if lb < ub:\n",
    "        loc = partition(A, lb, ub)\n",
    "        quicksort(A, lb, loc-1)\n",
    "        quicksort(A, loc+1, ub)\n",
    "\n",
    "\n",
    "A = [5,2,1,6,4,8]\n",
    "print(A)\n",
    "quicksort(A, 0, 5)\n",
    "print(A)"
   ]
  },
  {
   "cell_type": "code",
   "execution_count": null,
   "metadata": {},
   "outputs": [],
   "source": []
  }
 ],
 "metadata": {
  "kernelspec": {
   "display_name": "Python 3",
   "language": "python",
   "name": "python3"
  },
  "language_info": {
   "codemirror_mode": {
    "name": "ipython",
    "version": 3
   },
   "file_extension": ".py",
   "mimetype": "text/x-python",
   "name": "python",
   "nbconvert_exporter": "python",
   "pygments_lexer": "ipython3",
   "version": "3.7.4"
  }
 },
 "nbformat": 4,
 "nbformat_minor": 2
}
