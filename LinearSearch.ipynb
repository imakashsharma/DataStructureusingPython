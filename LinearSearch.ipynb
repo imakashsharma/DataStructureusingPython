{
 "cells": [
  {
   "cell_type": "code",
   "execution_count": 1,
   "metadata": {},
   "outputs": [
    {
     "name": "stdout",
     "output_type": "stream",
     "text": [
      "Result: 3\n"
     ]
    }
   ],
   "source": [
    "def linearsearch(A, key):\n",
    "    index = 0\n",
    "    while index < len(A):\n",
    "        if A[index] == key :\n",
    "            return index\n",
    "        index = index + 1\n",
    "    return -1\n",
    "\n",
    "A = [84, 21, 47, 96, 15]\n",
    "found = linearsearch(A,96)\n",
    "print('Result:',found)"
   ]
  },
  {
   "cell_type": "code",
   "execution_count": null,
   "metadata": {},
   "outputs": [],
   "source": []
  }
 ],
 "metadata": {
  "kernelspec": {
   "display_name": "Python 3",
   "language": "python",
   "name": "python3"
  },
  "language_info": {
   "codemirror_mode": {
    "name": "ipython",
    "version": 3
   },
   "file_extension": ".py",
   "mimetype": "text/x-python",
   "name": "python",
   "nbconvert_exporter": "python",
   "pygments_lexer": "ipython3",
   "version": "3.7.4"
  }
 },
 "nbformat": 4,
 "nbformat_minor": 2
}
