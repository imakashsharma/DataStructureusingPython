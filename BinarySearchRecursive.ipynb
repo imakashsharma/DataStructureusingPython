{
 "cells": [
  {
   "cell_type": "code",
   "execution_count": 1,
   "metadata": {},
   "outputs": [
    {
     "name": "stdout",
     "output_type": "stream",
     "text": [
      "Result: -1\n"
     ]
    }
   ],
   "source": [
    "def binarysearch_rec(A, key, l, r):\n",
    "    if l > r:\n",
    "        return -1\n",
    "    else:\n",
    "        mid = (l + r) // 2\n",
    "        if key == A[mid]:\n",
    "            return mid\n",
    "        elif key < A[mid]:\n",
    "            return binarysearch_rec(A, key, l, mid-1)\n",
    "        elif key > A[mid]:\n",
    "            return binarysearch_rec(A, key, mid+1, r)\n",
    "\n",
    "A = [15, 21, 47, 84, 96]\n",
    "found = binarysearch_rec(A,196,0,4)\n",
    "print('Result:', found)"
   ]
  },
  {
   "cell_type": "code",
   "execution_count": null,
   "metadata": {},
   "outputs": [],
   "source": []
  }
 ],
 "metadata": {
  "kernelspec": {
   "display_name": "Python 3",
   "language": "python",
   "name": "python3"
  },
  "language_info": {
   "codemirror_mode": {
    "name": "ipython",
    "version": 3
   },
   "file_extension": ".py",
   "mimetype": "text/x-python",
   "name": "python",
   "nbconvert_exporter": "python",
   "pygments_lexer": "ipython3",
   "version": "3.7.4"
  }
 },
 "nbformat": 4,
 "nbformat_minor": 2
}
